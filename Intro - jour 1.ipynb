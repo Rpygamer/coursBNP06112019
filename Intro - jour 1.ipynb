{
 "cells": [
  {
   "cell_type": "code",
   "execution_count": 8,
   "metadata": {},
   "outputs": [
    {
     "name": "stdout",
     "output_type": "stream",
     "text": [
      "Bonjour\n",
      "ma_variable\n"
     ]
    }
   ],
   "source": [
    "ma_variable = 3\n",
    "\n",
    "ma_variable = \"Bonjour\"\n",
    "\n",
    "print(ma_variable)\n",
    "print(\"ma_variable\")"
   ]
  },
  {
   "cell_type": "markdown",
   "metadata": {},
   "source": [
    "## Titre\n",
    "\n",
    "#### Sous titre\n",
    "\n",
    "Ceci est un paragraphe\n",
    "\n",
    "* Item 1\n",
    "* Item 2\n",
    "* Item 3"
   ]
  },
  {
   "cell_type": "code",
   "execution_count": 12,
   "metadata": {},
   "outputs": [
    {
     "name": "stdout",
     "output_type": "stream",
     "text": [
      "<class 'NoneType'>\n"
     ]
    }
   ],
   "source": [
    "ma_variable = \"Bonjour\"\n",
    "ma_variable = 42\n",
    "ma_variable = 4.2\n",
    "ma_variable = 4 + 2j\n",
    "ma_variable = True\n",
    "ma_variable = False\n",
    "ma_variable = None\n",
    "\n",
    "\n",
    "print(type(ma_variable))"
   ]
  },
  {
   "cell_type": "code",
   "execution_count": 21,
   "metadata": {},
   "outputs": [
    {
     "name": "stdout",
     "output_type": "stream",
     "text": [
      "6\n",
      "-2\n",
      "8\n",
      "0.5\n",
      "0\n",
      "2\n",
      "False\n",
      "True\n"
     ]
    },
    {
     "data": {
      "text/plain": [
       "5"
      ]
     },
     "execution_count": 21,
     "metadata": {},
     "output_type": "execute_result"
    }
   ],
   "source": [
    "a = 2\n",
    "b = 4\n",
    "\n",
    "a = 5\n",
    "a += 1 # a = a + 1\n",
    "\n",
    "print(a + b)\n",
    "print(a - b)\n",
    "print(a * b)\n",
    "print(a / b)\n",
    "print(a // b)\n",
    "print(a % b)\n",
    "\n",
    "print(True and False)\n",
    "print(True or False)\n",
    "\n",
    "c = 5\n",
    "c"
   ]
  },
  {
   "cell_type": "code",
   "execution_count": 26,
   "metadata": {},
   "outputs": [
    {
     "name": "stdout",
     "output_type": "stream",
     "text": [
      "True\n",
      "False\n",
      "False\n",
      "True\n"
     ]
    }
   ],
   "source": [
    "age = 56\n",
    "\n",
    "condition1 = age > 18\n",
    "condition2 = age < 40\n",
    "condition3 = age == 18\n",
    "condition4 = age != 40\n",
    "\n",
    "print(condition1)\n",
    "print(condition2)\n",
    "\n",
    "print(condition1 and condition2) # age doit satisfaire les deux conditions\n",
    "print(condition1 or condition2) # age doit satisfaire les deux conditions"
   ]
  },
  {
   "cell_type": "code",
   "execution_count": 30,
   "metadata": {},
   "outputs": [
    {
     "name": "stdout",
     "output_type": "stream",
     "text": [
      "2\n",
      "5\n",
      "6\n",
      "6\n",
      "1\n"
     ]
    }
   ],
   "source": [
    "ma_liste = [2,5,1,6]\n",
    "print(ma_liste[0]) # Premier element\n",
    "print(ma_liste[1]) # Deuxième element\n",
    "print(ma_liste[3]) # 4e element\n",
    "print(ma_liste[-1]) # Dernier element\n",
    "print(ma_liste[-2]) # Avant dernier element"
   ]
  },
  {
   "cell_type": "code",
   "execution_count": 41,
   "metadata": {},
   "outputs": [
    {
     "name": "stdout",
     "output_type": "stream",
     "text": [
      "4\n",
      "1\n",
      "6\n",
      "1\n",
      "[2, 5, 1, 6]\n"
     ]
    }
   ],
   "source": [
    "ma_liste = [2,5,1,6]\n",
    "liste_copy = ma_liste # reference la même liste dans une autre variable\n",
    "liste_copy = list(ma_liste) # crée une copie de ma liste\n",
    "liste_copy = ma_liste.copy() # crée une copie de ma liste\n",
    "print(len(ma_liste))\n",
    "print(ma_liste.index(5))\n",
    "print(max(ma_liste))\n",
    "print(min(ma_liste))\n",
    "liste_copy.sort()\n",
    "print(ma_liste)\n",
    "\n"
   ]
  },
  {
   "cell_type": "code",
   "execution_count": 46,
   "metadata": {},
   "outputs": [
    {
     "name": "stdout",
     "output_type": "stream",
     "text": [
      "Help on built-in function append:\n",
      "\n",
      "append(object, /) method of builtins.list instance\n",
      "    Append object to the end of the list.\n",
      "\n"
     ]
    }
   ],
   "source": [
    "# help(ma_liste)\n",
    "# dir(ma_liste)\n",
    "# help(ma_liste.append)"
   ]
  },
  {
   "cell_type": "code",
   "execution_count": 52,
   "metadata": {},
   "outputs": [
    {
     "data": {
      "text/plain": [
       "[None, 4, 6, 32, 7, [12, 13], 12, 13, 12, 13]"
      ]
     },
     "execution_count": 52,
     "metadata": {},
     "output_type": "execute_result"
    }
   ],
   "source": [
    "ma_liste = [True, None, 4, 6, 32]\n",
    "\n",
    "ma_liste.append(7)\n",
    "ma_liste.append([12, 13])\n",
    "ma_liste.extend([12, 13])\n",
    "ma_liste.pop(0)\n",
    "ma_liste += [12, 13]\n",
    "\n",
    "ma_liste"
   ]
  },
  {
   "cell_type": "code",
   "execution_count": 54,
   "metadata": {},
   "outputs": [
    {
     "name": "stdout",
     "output_type": "stream",
     "text": [
      "[0, 0, 0, 0, 0, 0, 0, 0, 0, 0, 0, 0, 0, 0, 0, 0, 0, 0, 0, 0, 0, 0, 0, 0, 0, 0, 0, 0, 0, 0, 0, 0, 0, 0, 0, 0, 0, 0, 0, 0, 0, 0, 0, 0, 0, 0, 0, 0, 0, 0, 0, 0, 0, 0, 0, 0, 0, 0, 0, 0, 0, 0, 0, 0, 0, 0, 0, 0, 0, 0, 0, 0, 0, 0, 0, 0, 0, 0, 0, 0, 0, 0, 0, 0, 0, 0, 0, 0, 0, 0, 0, 0, 0, 0, 0, 0, 0, 0, 0, 0]\n"
     ]
    }
   ],
   "source": [
    "ma_liste = [0] * 100\n",
    "print(ma_liste)\n",
    "ma_liste = [] # Création de liste vide\n"
   ]
  },
  {
   "cell_type": "code",
   "execution_count": 60,
   "metadata": {},
   "outputs": [
    {
     "name": "stdout",
     "output_type": "stream",
     "text": [
      "16\n",
      "[True, None]\n",
      "[None, 4, 6]\n",
      "[True, None]\n",
      "[4, 6, 32, 7, 13, 12, [15, 16]]\n",
      "[4, 6, 32, 7, 13, 12]\n",
      "[True, 4, 32]\n"
     ]
    }
   ],
   "source": [
    "# Slicing\n",
    "ma_liste = [True, None, 4, 6, 32, 7, 13, 12, [15, 16]]\n",
    "\n",
    "# Récupérer le dernier elmt du dernier elmt de ma_liste\n",
    "print(ma_liste[-1][-1]) \n",
    "\n",
    "print(ma_liste[0:2])\n",
    "print(ma_liste[1:4])\n",
    "print(ma_liste[:2])\n",
    "print(ma_liste[2:])\n",
    "print(ma_liste[2:-1])\n",
    "print(ma_liste[0:6:2])\n",
    "print(ma_liste[::-2])\n"
   ]
  },
  {
   "cell_type": "code",
   "execution_count": null,
   "metadata": {},
   "outputs": [],
   "source": [
    "# Exercice\n",
    "\n",
    "ma_liste = [True, None, 4, 6, 32, 7, 13, 12, [15, 16]]\n",
    "\n",
    "# Récupérer le premier element\n",
    "# Récupérer dernier élément\n",
    "# Récupérer le premier element de la liste [15, 16] (à la fin)\n",
    "# Récupérer un élément sur deux\n",
    "# Récupérer du 2e au 6e inclus\n",
    "# Récupérer du 2e à la fin de 2 en 2\n",
    "# Récupérer de l'avant dernier au troisième\n",
    "\n",
    "\n",
    "\n",
    "\n"
   ]
  }
 ],
 "metadata": {
  "kernelspec": {
   "display_name": "Python 3",
   "language": "python",
   "name": "python3"
  },
  "language_info": {
   "codemirror_mode": {
    "name": "ipython",
    "version": 3
   },
   "file_extension": ".py",
   "mimetype": "text/x-python",
   "name": "python",
   "nbconvert_exporter": "python",
   "pygments_lexer": "ipython3",
   "version": "3.7.3"
  }
 },
 "nbformat": 4,
 "nbformat_minor": 2
}
