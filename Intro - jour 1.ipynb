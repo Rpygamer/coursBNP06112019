{
 "cells": [
  {
   "cell_type": "code",
   "execution_count": 8,
   "metadata": {},
   "outputs": [
    {
     "name": "stdout",
     "output_type": "stream",
     "text": [
      "Bonjour\n",
      "ma_variable\n"
     ]
    }
   ],
   "source": [
    "ma_variable = 3\n",
    "\n",
    "ma_variable = \"Bonjour\"\n",
    "\n",
    "print(ma_variable)\n",
    "print(\"ma_variable\")"
   ]
  },
  {
   "cell_type": "markdown",
   "metadata": {},
   "source": [
    "## Titre\n",
    "\n",
    "#### Sous titre\n",
    "\n",
    "Ceci est un paragraphe\n",
    "\n",
    "* Item 1\n",
    "* Item 2\n",
    "* Item 3"
   ]
  },
  {
   "cell_type": "code",
   "execution_count": 12,
   "metadata": {},
   "outputs": [
    {
     "name": "stdout",
     "output_type": "stream",
     "text": [
      "<class 'NoneType'>\n"
     ]
    }
   ],
   "source": [
    "ma_variable = \"Bonjour\"\n",
    "ma_variable = 42\n",
    "ma_variable = 4.2\n",
    "ma_variable = 4 + 2j\n",
    "ma_variable = True\n",
    "ma_variable = False\n",
    "ma_variable = None\n",
    "\n",
    "\n",
    "print(type(ma_variable))"
   ]
  },
  {
   "cell_type": "code",
   "execution_count": 21,
   "metadata": {},
   "outputs": [
    {
     "name": "stdout",
     "output_type": "stream",
     "text": [
      "6\n",
      "-2\n",
      "8\n",
      "0.5\n",
      "0\n",
      "2\n",
      "False\n",
      "True\n"
     ]
    },
    {
     "data": {
      "text/plain": [
       "5"
      ]
     },
     "execution_count": 21,
     "metadata": {},
     "output_type": "execute_result"
    }
   ],
   "source": [
    "a = 2\n",
    "b = 4\n",
    "\n",
    "a = 5\n",
    "a += 1 # a = a + 1\n",
    "\n",
    "print(a + b)\n",
    "print(a - b)\n",
    "print(a * b)\n",
    "print(a / b)\n",
    "print(a // b)\n",
    "print(a % b)\n",
    "\n",
    "print(True and False)\n",
    "print(True or False)\n",
    "\n",
    "c = 5\n",
    "c"
   ]
  },
  {
   "cell_type": "code",
   "execution_count": 26,
   "metadata": {},
   "outputs": [
    {
     "name": "stdout",
     "output_type": "stream",
     "text": [
      "True\n",
      "False\n",
      "False\n",
      "True\n"
     ]
    }
   ],
   "source": [
    "age = 56\n",
    "\n",
    "condition1 = age > 18\n",
    "condition2 = age < 40\n",
    "condition3 = age == 18\n",
    "condition4 = age != 40\n",
    "\n",
    "print(condition1)\n",
    "print(condition2)\n",
    "\n",
    "print(condition1 and condition2) # age doit satisfaire les deux conditions\n",
    "print(condition1 or condition2) # age doit satisfaire les deux conditions"
   ]
  },
  {
   "cell_type": "code",
   "execution_count": 30,
   "metadata": {},
   "outputs": [
    {
     "name": "stdout",
     "output_type": "stream",
     "text": [
      "2\n",
      "5\n",
      "6\n",
      "6\n",
      "1\n"
     ]
    }
   ],
   "source": [
    "ma_liste = [2,5,1,6]\n",
    "print(ma_liste[0]) # Premier element\n",
    "print(ma_liste[1]) # Deuxième element\n",
    "print(ma_liste[3]) # 4e element\n",
    "print(ma_liste[-1]) # Dernier element\n",
    "print(ma_liste[-2]) # Avant dernier element"
   ]
  },
  {
   "cell_type": "code",
   "execution_count": 41,
   "metadata": {},
   "outputs": [
    {
     "name": "stdout",
     "output_type": "stream",
     "text": [
      "4\n",
      "1\n",
      "6\n",
      "1\n",
      "[2, 5, 1, 6]\n"
     ]
    }
   ],
   "source": [
    "ma_liste = [2,5,1,6]\n",
    "liste_copy = ma_liste # reference la même liste dans une autre variable\n",
    "liste_copy = list(ma_liste) # crée une copie de ma liste\n",
    "liste_copy = ma_liste.copy() # crée une copie de ma liste\n",
    "print(len(ma_liste))\n",
    "print(ma_liste.index(5))\n",
    "print(max(ma_liste))\n",
    "print(min(ma_liste))\n",
    "liste_copy.sort()\n",
    "print(ma_liste)\n",
    "\n"
   ]
  },
  {
   "cell_type": "code",
   "execution_count": 46,
   "metadata": {},
   "outputs": [
    {
     "name": "stdout",
     "output_type": "stream",
     "text": [
      "Help on built-in function append:\n",
      "\n",
      "append(object, /) method of builtins.list instance\n",
      "    Append object to the end of the list.\n",
      "\n"
     ]
    }
   ],
   "source": [
    "# help(ma_liste)\n",
    "# dir(ma_liste)\n",
    "# help(ma_liste.append)"
   ]
  },
  {
   "cell_type": "code",
   "execution_count": 52,
   "metadata": {},
   "outputs": [
    {
     "data": {
      "text/plain": [
       "[None, 4, 6, 32, 7, [12, 13], 12, 13, 12, 13]"
      ]
     },
     "execution_count": 52,
     "metadata": {},
     "output_type": "execute_result"
    }
   ],
   "source": [
    "ma_liste = [True, None, 4, 6, 32]\n",
    "\n",
    "ma_liste.append(7)\n",
    "ma_liste.append([12, 13])\n",
    "ma_liste.extend([12, 13])\n",
    "ma_liste.pop(0)\n",
    "ma_liste += [12, 13]\n",
    "\n",
    "ma_liste"
   ]
  },
  {
   "cell_type": "code",
   "execution_count": 54,
   "metadata": {},
   "outputs": [
    {
     "name": "stdout",
     "output_type": "stream",
     "text": [
      "[0, 0, 0, 0, 0, 0, 0, 0, 0, 0, 0, 0, 0, 0, 0, 0, 0, 0, 0, 0, 0, 0, 0, 0, 0, 0, 0, 0, 0, 0, 0, 0, 0, 0, 0, 0, 0, 0, 0, 0, 0, 0, 0, 0, 0, 0, 0, 0, 0, 0, 0, 0, 0, 0, 0, 0, 0, 0, 0, 0, 0, 0, 0, 0, 0, 0, 0, 0, 0, 0, 0, 0, 0, 0, 0, 0, 0, 0, 0, 0, 0, 0, 0, 0, 0, 0, 0, 0, 0, 0, 0, 0, 0, 0, 0, 0, 0, 0, 0, 0]\n"
     ]
    }
   ],
   "source": [
    "ma_liste = [0] * 100\n",
    "print(ma_liste)\n",
    "ma_liste = [] # Création de liste vide\n"
   ]
  },
  {
   "cell_type": "code",
   "execution_count": 60,
   "metadata": {},
   "outputs": [
    {
     "name": "stdout",
     "output_type": "stream",
     "text": [
      "16\n",
      "[True, None]\n",
      "[None, 4, 6]\n",
      "[True, None]\n",
      "[4, 6, 32, 7, 13, 12, [15, 16]]\n",
      "[4, 6, 32, 7, 13, 12]\n",
      "[True, 4, 32]\n"
     ]
    }
   ],
   "source": [
    "# Slicing\n",
    "ma_liste = [True, None, 4, 6, 32, 7, 13, 12, [15, 16]]\n",
    "\n",
    "# Récupérer le dernier elmt du dernier elmt de ma_liste\n",
    "print(ma_liste[-1][-1]) \n",
    "\n",
    "print(ma_liste[0:2])\n",
    "print(ma_liste[1:4])\n",
    "print(ma_liste[:2])\n",
    "print(ma_liste[2:])\n",
    "print(ma_liste[2:-1])\n",
    "print(ma_liste[0:6:2])\n",
    "print(ma_liste[::-2])\n"
   ]
  },
  {
   "cell_type": "code",
   "execution_count": 62,
   "metadata": {},
   "outputs": [
    {
     "name": "stdout",
     "output_type": "stream",
     "text": [
      "True\n",
      "[15, 16]\n",
      "15\n",
      "[True, 4, 32, 13, [15, 16]]\n",
      "[None, 4, 6, 32, 7]\n",
      "[None, 6, 7, 12]\n",
      "[12, 13, 7, 32, 6, 4]\n"
     ]
    }
   ],
   "source": [
    "# Exercice\n",
    "\n",
    "ma_liste = [True, None, 4, 6, 32, 7, 13, 12, [15, 16]]\n",
    "\n",
    "# Récupérer le premier element\n",
    "print(ma_liste[0])\n",
    "# Récupérer dernier élément\n",
    "print(ma_liste[-1])\n",
    "# Récupérer le premier element de la liste [15, 16] (à la fin)\n",
    "print(ma_liste[-1][0])\n",
    "# Récupérer un élément sur deux\n",
    "print(ma_liste[::2])\n",
    "# Récupérer du 2e au 6e inclus\n",
    "print(ma_liste[1:6])\n",
    "# Récupérer du 2e à la fin de 2 en 2\n",
    "print(ma_liste[1::2])\n",
    "# Récupérer de l'avant dernier au troisième\n",
    "print(ma_liste[-2:1:-1])\n"
   ]
  },
  {
   "cell_type": "code",
   "execution_count": 68,
   "metadata": {},
   "outputs": [
    {
     "data": {
      "text/plain": [
       "'Dupont'"
      ]
     },
     "execution_count": 68,
     "metadata": {},
     "output_type": "execute_result"
    }
   ],
   "source": [
    "personne = {\"nom\": \"Dupont\", \"prenom\": \"Elise\", \"age\": 37, True: [1,5,7]}\n",
    "personne[\"nom\"]\n",
    "\n",
    "personne1 = {\"nom\": \"Dupont\", \"prenom\": \"Elisa\", \"age\": 37, True: [1,5,7]}\n",
    "personne2 = {\"nom\": \"Dupont\", \"prenom\": \"Martin\", \"age\": 37, True: [1,5,7]}\n",
    "\n",
    "table_notes_eleves = {\n",
    "    12: personne1,\n",
    "    16: personne2\n",
    "}\n",
    "\n",
    "table_notes_eleves[12][\"nom\"]\n"
   ]
  },
  {
   "cell_type": "code",
   "execution_count": 69,
   "metadata": {},
   "outputs": [
    {
     "name": "stdout",
     "output_type": "stream",
     "text": [
      "Dupont\n"
     ]
    }
   ],
   "source": [
    "# liste (liste_personnes) qui contient personne, personne1 et personne2\n",
    "liste_personnes = [personne, personne1, personne2]\n",
    "# afficher le nom de la premiere personne de la liste\n",
    "print(liste_personnes[0][\"nom\"])\n",
    "# afficher le prenom de la dernière personne de la liste\n",
    "liste_personnes[-1][\"prenom\"]\n",
    "# ajouter une personne que vous créez dans la liste\n",
    "personne_a_ajouter = {\"nom\": \"Durand\", \"prenom\": \"Thomas\", \"age\": 32}\n",
    "liste_personnes.append(personne_a_ajouter)\n"
   ]
  },
  {
   "cell_type": "code",
   "execution_count": 75,
   "metadata": {},
   "outputs": [
    {
     "name": "stdout",
     "output_type": "stream",
     "text": [
      "Helene\n"
     ]
    },
    {
     "data": {
      "text/plain": [
       "(2, 8, 4, 12)"
      ]
     },
     "execution_count": 75,
     "metadata": {},
     "output_type": "execute_result"
    }
   ],
   "source": [
    "personne[\"nom\"] = \"Helene\"\n",
    "print(liste_personnes[0][\"nom\"])\n",
    "\n",
    "mon_tuple = (1, 8, 4, 12)\n",
    "# mon_tuple[0] = 2\n",
    "mon_tuple = (2,) + mon_tuple[1:]\n",
    "mon_tuple"
   ]
  },
  {
   "cell_type": "code",
   "execution_count": null,
   "metadata": {},
   "outputs": [],
   "source": []
  },
  {
   "cell_type": "code",
   "execution_count": 65,
   "metadata": {},
   "outputs": [
    {
     "data": {
      "text/plain": [
       "1291272085159673901"
      ]
     },
     "execution_count": 65,
     "metadata": {},
     "output_type": "execute_result"
    }
   ],
   "source": [
    "hash(45.56)"
   ]
  },
  {
   "cell_type": "code",
   "execution_count": 66,
   "metadata": {},
   "outputs": [
    {
     "ename": "TypeError",
     "evalue": "'str' object does not support item assignment",
     "output_type": "error",
     "traceback": [
      "\u001b[1;31m---------------------------------------------------------------------------\u001b[0m",
      "\u001b[1;31mTypeError\u001b[0m                                 Traceback (most recent call last)",
      "\u001b[1;32m<ipython-input-66-03ecc0dc7394>\u001b[0m in \u001b[0;36m<module>\u001b[1;34m\u001b[0m\n\u001b[0;32m      1\u001b[0m \u001b[0mma_chaine\u001b[0m \u001b[1;33m=\u001b[0m \u001b[1;34m\"Bonjour\"\u001b[0m\u001b[1;33m\u001b[0m\u001b[1;33m\u001b[0m\u001b[0m\n\u001b[1;32m----> 2\u001b[1;33m \u001b[0mma_chaine\u001b[0m\u001b[1;33m[\u001b[0m\u001b[1;36m0\u001b[0m\u001b[1;33m]\u001b[0m \u001b[1;33m=\u001b[0m \u001b[1;34m\"C\"\u001b[0m\u001b[1;33m\u001b[0m\u001b[1;33m\u001b[0m\u001b[0m\n\u001b[0m",
      "\u001b[1;31mTypeError\u001b[0m: 'str' object does not support item assignment"
     ]
    }
   ],
   "source": [
    "ma_chaine = \"Bonjour\"\n",
    "ma_chaine[0] = \"C\""
   ]
  },
  {
   "cell_type": "code",
   "execution_count": 67,
   "metadata": {},
   "outputs": [],
   "source": [
    "ma_liste = [2,1,5,4]\n",
    "ma_liste[0] = 15"
   ]
  },
  {
   "cell_type": "markdown",
   "metadata": {},
   "source": [
    "## Boucles et conditions"
   ]
  },
  {
   "cell_type": "code",
   "execution_count": 1,
   "metadata": {},
   "outputs": [
    {
     "name": "stdout",
     "output_type": "stream",
     "text": [
      "Bonjour 1. Je m'appelle Justine. J'ai 36 ans.\n",
      "Bonjour 2. Je m'appelle Justine. J'ai 36 ans.\n",
      "Bonjour 1. Je m'appelle Justine. J'ai 36 ans.\n",
      "Bonjour 6. Je m'appelle Justine. J'ai 36 ans.\n",
      "Bonjour 11. Je m'appelle Justine. J'ai 36 ans.\n",
      "Bonjour 16. Je m'appelle Justine. J'ai 36 ans.\n",
      "Bonjour 21. Je m'appelle Justine. J'ai 36 ans.\n",
      "exterieur\n"
     ]
    }
   ],
   "source": [
    "n1, n2, idx = 0, 1, 1\n",
    "age, name = 36, \"Justine\"\n",
    "\n",
    "while idx < 25:\n",
    "    print(f\"Bonjour {idx}. Je m'appelle {name}. J'ai {age} ans.\")\n",
    "    idx = 2*n2 + n1\n",
    "    n2 = 2 * n1\n",
    "    n1 += 1 \n",
    "print(\"exterieur\")"
   ]
  },
  {
   "cell_type": "code",
   "execution_count": 6,
   "metadata": {},
   "outputs": [
    {
     "name": "stdout",
     "output_type": "stream",
     "text": [
      "0.2\n",
      "0.1\n",
      "0.54\n",
      "0.76\n",
      "0\n",
      "1\n",
      "2\n",
      "3\n",
      "Bonjour\n",
      "Bonjour\n",
      "Bonjour\n",
      "Bonjour\n",
      "Bonjour\n",
      "Bonjour\n",
      "Bonjour\n",
      "Bonjour\n",
      "Bonjour\n",
      "Bonjour\n",
      "10\n",
      "12\n",
      "14\n",
      "16\n",
      "18\n"
     ]
    }
   ],
   "source": [
    "liste_scores = [0.2, 0.1, .54, .76]\n",
    "\n",
    "for score in liste_scores:\n",
    "    print(score)\n",
    "    \n",
    "for i in range(len(liste_scores)):\n",
    "    print(i)\n",
    "    \n",
    "for i in range(10):\n",
    "    print(\"Bonjour\")\n",
    "\n",
    "for i in range(10, 20, 2):\n",
    "    print(i)"
   ]
  },
  {
   "cell_type": "code",
   "execution_count": 14,
   "metadata": {},
   "outputs": [
    {
     "name": "stdout",
     "output_type": "stream",
     "text": [
      "Majeur\n"
     ]
    }
   ],
   "source": [
    "age = 19\n",
    "\n",
    "if age < 18:\n",
    "    print(\"Mineur\")\n",
    "elif age > 18:\n",
    "    print(\"Majeur\")\n",
    "else:\n",
    "    print(\"Va passer ton permis\")"
   ]
  },
  {
   "cell_type": "code",
   "execution_count": null,
   "metadata": {},
   "outputs": [],
   "source": [
    "age = 19\n",
    "\n",
    "if age > 18:\n",
    "    print(\"Etape 1\")\n",
    "if age > 40:\n",
    "    print(\"Etape 2\")"
   ]
  },
  {
   "cell_type": "code",
   "execution_count": null,
   "metadata": {},
   "outputs": [],
   "source": [
    "age = 19\n",
    "\n",
    "if age > 18:\n",
    "    print(\"Etape 1\")\n",
    "elif age > 40:\n",
    "    print(\"Etape 2\")\n"
   ]
  },
  {
   "cell_type": "markdown",
   "metadata": {},
   "source": [
    "## FizzBuzz\n",
    "\n",
    "Pour tous les entiers de 0 à 100\n",
    "* Si l'entier est un multiple de 3 on affiche fizz\n",
    "* Si l'entier est un multiple de 5 on affiche buzz\n",
    "* Si l'entier est un multiple de 3 et 5 on affiche bazz\n",
    "* Sinon on affiche l'entier\n"
   ]
  },
  {
   "cell_type": "code",
   "execution_count": 20,
   "metadata": {},
   "outputs": [
    {
     "name": "stdout",
     "output_type": "stream",
     "text": [
      "bazz\n",
      "1\n",
      "2\n",
      "fizz\n",
      "4\n",
      "buzz\n",
      "fizz\n",
      "7\n",
      "8\n",
      "fizz\n",
      "buzz\n",
      "11\n",
      "fizz\n",
      "13\n",
      "14\n",
      "bazz\n",
      "16\n",
      "17\n",
      "fizz\n",
      "19\n",
      "buzz\n",
      "fizz\n",
      "22\n",
      "23\n",
      "fizz\n",
      "buzz\n",
      "26\n",
      "fizz\n",
      "28\n",
      "29\n",
      "bazz\n",
      "31\n",
      "32\n",
      "fizz\n",
      "34\n",
      "buzz\n",
      "fizz\n",
      "37\n",
      "38\n",
      "fizz\n",
      "buzz\n",
      "41\n",
      "fizz\n",
      "43\n",
      "44\n",
      "bazz\n",
      "46\n",
      "47\n",
      "fizz\n",
      "49\n",
      "buzz\n",
      "fizz\n",
      "52\n",
      "53\n",
      "fizz\n",
      "buzz\n",
      "56\n",
      "fizz\n",
      "58\n",
      "59\n",
      "bazz\n",
      "61\n",
      "62\n",
      "fizz\n",
      "64\n",
      "buzz\n",
      "fizz\n",
      "67\n",
      "68\n",
      "fizz\n",
      "buzz\n",
      "71\n",
      "fizz\n",
      "73\n",
      "74\n",
      "bazz\n",
      "76\n",
      "77\n",
      "fizz\n",
      "79\n",
      "buzz\n",
      "fizz\n",
      "82\n",
      "83\n",
      "fizz\n",
      "buzz\n",
      "86\n",
      "fizz\n",
      "88\n",
      "89\n",
      "bazz\n",
      "91\n",
      "92\n",
      "fizz\n",
      "94\n",
      "buzz\n",
      "fizz\n",
      "97\n",
      "98\n",
      "fizz\n"
     ]
    }
   ],
   "source": [
    "for i in range(100):\n",
    "    if (i % 3 == 0) and (i % 5 == 0):\n",
    "        print(\"bazz\")\n",
    "    elif i % 3 == 0:\n",
    "        print(\"fizz\")\n",
    "    elif i % 5 == 0:\n",
    "        print(\"buzz\")\n",
    "    else:\n",
    "        print(i)"
   ]
  },
  {
   "cell_type": "code",
   "execution_count": 9,
   "metadata": {},
   "outputs": [
    {
     "name": "stdout",
     "output_type": "stream",
     "text": [
      "Faites une proposition.50\n",
      "La proposition est trop grande\n",
      "Faites une proposition.25\n",
      "La proposition est trop grande\n",
      "Faites une proposition.17\n",
      "La proposition est trop grande\n",
      "Faites une proposition.9\n",
      "la proposition est trop petite\n",
      "Faites une proposition.12\n",
      "Gagné\n"
     ]
    }
   ],
   "source": [
    "from random import randint\n",
    "\n",
    "\n",
    "valeur_secrete = randint(0,100)\n",
    "proposition = int(input(\"Faites une proposition.\"))\n",
    "\n",
    "while proposition != valeur_secrete:\n",
    "    if proposition > valeur_secrete:\n",
    "        print(\"La proposition est trop grande\")\n",
    "    else:\n",
    "        print(\"la proposition est trop petite\")\n",
    "    proposition = int(input(\"Faites une proposition.\"))\n",
    "\n",
    "print(\"Gagné\")"
   ]
  },
  {
   "cell_type": "code",
   "execution_count": 4,
   "metadata": {},
   "outputs": [
    {
     "name": "stdout",
     "output_type": "stream",
     "text": [
      "L'ordi  propose 90. E/G/P ?P\n",
      "L'ordi  propose 6. E/G/P ?G\n",
      "L'ordi  propose 17. E/G/P ?G\n",
      "L'ordi  propose 44. E/G/P ?P\n",
      "L'ordi  propose 34. E/G/P ?P\n",
      "L'ordi  propose 19. E/G/P ?G\n",
      "L'ordi  propose 28. E/G/P ?P\n",
      "L'ordi  propose 26. E/G/P ?G\n",
      "L'ordi  propose 27. E/G/P ?E\n",
      "Gagné\n"
     ]
    }
   ],
   "source": [
    "from random import randint\n",
    "\n",
    "\n",
    "borne_min = 0\n",
    "borne_max = 101\n",
    "reponse = None\n",
    "\n",
    "while reponse != \"E\":\n",
    "    proposition = randint(borne_min+1, borne_max-1)#(borne_min + borne_max) // 2\n",
    "    reponse = input(f\"L'ordi  propose {proposition}. E/G/P ?\")\n",
    "    if reponse == \"G\":\n",
    "        borne_min = proposition\n",
    "    elif reponse == \"P\":\n",
    "        borne_max = proposition\n",
    "print(\"Gagné\")\n"
   ]
  },
  {
   "cell_type": "code",
   "execution_count": 7,
   "metadata": {},
   "outputs": [
    {
     "name": "stdout",
     "output_type": "stream",
     "text": [
      "1.49 ms ± 34.9 µs per loop (mean ± std. dev. of 7 runs, 1000 loops each)\n"
     ]
    }
   ],
   "source": [
    "from timeit import timeit\n",
    "import numpy as np\n",
    "\n",
    "%timeit np.ones((20,10000))+2"
   ]
  },
  {
   "cell_type": "code",
   "execution_count": 8,
   "metadata": {},
   "outputs": [
    {
     "name": "stdout",
     "output_type": "stream",
     "text": [
      "15.3 ms ± 910 µs per loop (mean ± std. dev. of 7 runs, 100 loops each)\n"
     ]
    }
   ],
   "source": [
    "def add():\n",
    "    res = []\n",
    "    for i in range(20):\n",
    "        line = []\n",
    "        for j in range(10000):\n",
    "            line.append(1+2)\n",
    "        res.append(line)\n",
    "\n",
    "%timeit add()\n",
    "            "
   ]
  },
  {
   "cell_type": "code",
   "execution_count": 8,
   "metadata": {},
   "outputs": [
    {
     "data": {
      "text/plain": [
       "3"
      ]
     },
     "execution_count": 8,
     "metadata": {},
     "output_type": "execute_result"
    }
   ],
   "source": [
    "3 & ( 2 | 1 )"
   ]
  },
  {
   "cell_type": "markdown",
   "metadata": {},
   "source": [
    "## Les fonctions"
   ]
  },
  {
   "cell_type": "code",
   "execution_count": 10,
   "metadata": {},
   "outputs": [
    {
     "name": "stdout",
     "output_type": "stream",
     "text": [
      "Bonjour tout le monde\n",
      "Bonjour tout le monde\n",
      "Bonjour tout le monde\n",
      "Bonjour tout le monde\n"
     ]
    }
   ],
   "source": [
    "def dire_bonjour():\n",
    "    print(\"Bonjour tout le monde\")\n",
    "    \n",
    "dire_bonjour()\n",
    "dire_bonjour()\n",
    "dire_bonjour()\n",
    "dire_bonjour()\n"
   ]
  },
  {
   "cell_type": "code",
   "execution_count": 11,
   "metadata": {},
   "outputs": [
    {
     "name": "stdout",
     "output_type": "stream",
     "text": [
      "10\n"
     ]
    }
   ],
   "source": [
    "def addition(a, b):\n",
    "    return a + b\n",
    "\n",
    "c = addition(2,8)\n",
    "print(c)"
   ]
  },
  {
   "cell_type": "code",
   "execution_count": 12,
   "metadata": {},
   "outputs": [
    {
     "name": "stdout",
     "output_type": "stream",
     "text": [
      "10\n"
     ]
    }
   ],
   "source": [
    "# Attention\n",
    "a = 14\n",
    "b = 2\n",
    "\n",
    "def addition(a, b):\n",
    "    return a + b\n",
    "\n",
    "c = addition(2,8)\n",
    "print(c)"
   ]
  },
  {
   "cell_type": "code",
   "execution_count": 14,
   "metadata": {},
   "outputs": [
    {
     "name": "stdout",
     "output_type": "stream",
     "text": [
      "2\n",
      "2\n",
      "26\n"
     ]
    }
   ],
   "source": [
    "\"\"\"\n",
    "Attention une assignation à l'intérieur \n",
    "d'une fonction rend la variable locale\n",
    "\"\"\"\n",
    "\n",
    "a = 14\n",
    "c = 2\n",
    "\n",
    "def addition(a, b):\n",
    "    c = 24\n",
    "    return a + c\n",
    "\n",
    "print(c)\n",
    "d = addition(2,8)\n",
    "print(c)\n",
    "print(d)"
   ]
  },
  {
   "cell_type": "code",
   "execution_count": 1,
   "metadata": {},
   "outputs": [
    {
     "name": "stdout",
     "output_type": "stream",
     "text": [
      "2\n"
     ]
    },
    {
     "ename": "UnboundLocalError",
     "evalue": "local variable 'c' referenced before assignment",
     "output_type": "error",
     "traceback": [
      "\u001b[1;31m---------------------------------------------------------------------------\u001b[0m",
      "\u001b[1;31mUnboundLocalError\u001b[0m                         Traceback (most recent call last)",
      "\u001b[1;32m<ipython-input-1-c1d4f01dcf8b>\u001b[0m in \u001b[0;36m<module>\u001b[1;34m\u001b[0m\n\u001b[0;32m     13\u001b[0m \u001b[1;33m\u001b[0m\u001b[0m\n\u001b[0;32m     14\u001b[0m \u001b[0mprint\u001b[0m\u001b[1;33m(\u001b[0m\u001b[0mc\u001b[0m\u001b[1;33m)\u001b[0m\u001b[1;33m\u001b[0m\u001b[1;33m\u001b[0m\u001b[0m\n\u001b[1;32m---> 15\u001b[1;33m \u001b[0md\u001b[0m \u001b[1;33m=\u001b[0m \u001b[0maddition\u001b[0m\u001b[1;33m(\u001b[0m\u001b[1;36m2\u001b[0m\u001b[1;33m,\u001b[0m\u001b[1;36m8\u001b[0m\u001b[1;33m)\u001b[0m\u001b[1;33m\u001b[0m\u001b[1;33m\u001b[0m\u001b[0m\n\u001b[0m\u001b[0;32m     16\u001b[0m \u001b[0mprint\u001b[0m\u001b[1;33m(\u001b[0m\u001b[0mc\u001b[0m\u001b[1;33m)\u001b[0m\u001b[1;33m\u001b[0m\u001b[1;33m\u001b[0m\u001b[0m\n\u001b[0;32m     17\u001b[0m \u001b[0mprint\u001b[0m\u001b[1;33m(\u001b[0m\u001b[0md\u001b[0m\u001b[1;33m)\u001b[0m\u001b[1;33m\u001b[0m\u001b[1;33m\u001b[0m\u001b[0m\n",
      "\u001b[1;32m<ipython-input-1-c1d4f01dcf8b>\u001b[0m in \u001b[0;36maddition\u001b[1;34m(a, b)\u001b[0m\n\u001b[0;32m      8\u001b[0m \u001b[1;33m\u001b[0m\u001b[0m\n\u001b[0;32m      9\u001b[0m \u001b[1;32mdef\u001b[0m \u001b[0maddition\u001b[0m\u001b[1;33m(\u001b[0m\u001b[0ma\u001b[0m\u001b[1;33m,\u001b[0m \u001b[0mb\u001b[0m\u001b[1;33m)\u001b[0m\u001b[1;33m:\u001b[0m\u001b[1;33m\u001b[0m\u001b[1;33m\u001b[0m\u001b[0m\n\u001b[1;32m---> 10\u001b[1;33m     \u001b[0mprint\u001b[0m\u001b[1;33m(\u001b[0m\u001b[0mc\u001b[0m\u001b[1;33m)\u001b[0m\u001b[1;33m\u001b[0m\u001b[1;33m\u001b[0m\u001b[0m\n\u001b[0m\u001b[0;32m     11\u001b[0m     \u001b[0mc\u001b[0m \u001b[1;33m=\u001b[0m \u001b[1;36m24\u001b[0m\u001b[1;33m\u001b[0m\u001b[1;33m\u001b[0m\u001b[0m\n\u001b[0;32m     12\u001b[0m     \u001b[1;32mreturn\u001b[0m \u001b[0ma\u001b[0m \u001b[1;33m+\u001b[0m \u001b[0mc\u001b[0m\u001b[1;33m\u001b[0m\u001b[1;33m\u001b[0m\u001b[0m\n",
      "\u001b[1;31mUnboundLocalError\u001b[0m: local variable 'c' referenced before assignment"
     ]
    }
   ],
   "source": [
    "\"\"\"\n",
    "Attention une assignation à l'intérieur \n",
    "d'une fonction rend la variable locale\n",
    "\"\"\"\n",
    "\n",
    "a = 14\n",
    "c = 2\n",
    "\n",
    "def addition(a, b):\n",
    "    print(c)\n",
    "    c = 24\n",
    "    return a + c\n",
    "\n",
    "print(c)\n",
    "d = addition(2,8)\n",
    "print(c)\n",
    "print(d)"
   ]
  },
  {
   "cell_type": "code",
   "execution_count": 2,
   "metadata": {},
   "outputs": [
    {
     "name": "stdout",
     "output_type": "stream",
     "text": [
      "2\n",
      "2\n",
      "24\n",
      "26\n"
     ]
    }
   ],
   "source": [
    "\"\"\"\n",
    "Attention une assignation à l'intérieur \n",
    "d'une fonction rend la variable locale\n",
    "\"\"\"\n",
    "\n",
    "a = 14\n",
    "c = 2\n",
    "\n",
    "def addition(a, b):\n",
    "    global c\n",
    "    print(c)\n",
    "    c = 24\n",
    "    return a + c\n",
    "\n",
    "print(c)\n",
    "d = addition(2,8)\n",
    "print(c)\n",
    "print(d)"
   ]
  },
  {
   "cell_type": "code",
   "execution_count": 8,
   "metadata": {},
   "outputs": [
    {
     "name": "stdout",
     "output_type": "stream",
     "text": [
      "Bonjour Martin. J'ai 45 ans.\n",
      "Hello Martin. I am 45y.o.\n",
      "Bonjour Martin. J'ai 45 ans.\n"
     ]
    }
   ],
   "source": [
    "def dire_bonjour(name, lng=\"FR\", age=45):\n",
    "    \"\"\"\n",
    "        Une fonction qui dit bonjour\n",
    "        :param name: nom de la personne\n",
    "        :param lng: langue de la personne. default = FR\n",
    "        :param age: age de la personne. default = 45\n",
    "    \"\"\"\n",
    "    if lng == \"FR\":\n",
    "        print(f\"Bonjour {name}. J'ai {age} ans.\")\n",
    "    else:\n",
    "        print(f\"Hello {name}. I am {age}y.o.\")\n",
    "        \n",
    "dire_bonjour(\"Martin\")\n",
    "dire_bonjour(\"Martin\", \"EN\")\n",
    "dire_bonjour(\"Martin\", age=45)\n"
   ]
  },
  {
   "cell_type": "code",
   "execution_count": 10,
   "metadata": {},
   "outputs": [
    {
     "name": "stdout",
     "output_type": "stream",
     "text": [
      "Help on function dire_bonjour in module __main__:\n",
      "\n",
      "dire_bonjour(name, lng='FR', age=45)\n",
      "    Une fonction qui dit bonjour\n",
      "    :param name: nom de la personne\n",
      "    :param lng: langue de la personne. default = FR\n",
      "    :param age: age de la personne. default = 45\n",
      "\n"
     ]
    }
   ],
   "source": [
    "help(dire_bonjour)"
   ]
  },
  {
   "cell_type": "markdown",
   "metadata": {},
   "source": [
    "#### Pb : Effets de bord"
   ]
  },
  {
   "cell_type": "code",
   "execution_count": 11,
   "metadata": {},
   "outputs": [
    {
     "name": "stdout",
     "output_type": "stream",
     "text": [
      "{'nom': 'Santiago', 'prenom': 'Georges'}\n"
     ]
    }
   ],
   "source": [
    "personne = {\"nom\": \"Alain\", \"prenom\": \"Georges\"}\n",
    "\n",
    "def change_name(pers):\n",
    "    pers[\"nom\"] = \"Santiago\"\n",
    "    \n",
    "change_name(personne)\n",
    "print(personne)"
   ]
  },
  {
   "cell_type": "code",
   "execution_count": 12,
   "metadata": {},
   "outputs": [
    {
     "ename": "TypeError",
     "evalue": "'tuple' object does not support item assignment",
     "output_type": "error",
     "traceback": [
      "\u001b[1;31m---------------------------------------------------------------------------\u001b[0m",
      "\u001b[1;31mTypeError\u001b[0m                                 Traceback (most recent call last)",
      "\u001b[1;32m<ipython-input-12-6e33e7197948>\u001b[0m in \u001b[0;36m<module>\u001b[1;34m\u001b[0m\n\u001b[0;32m      4\u001b[0m     \u001b[0mtp\u001b[0m\u001b[1;33m[\u001b[0m\u001b[1;36m0\u001b[0m\u001b[1;33m]\u001b[0m \u001b[1;33m=\u001b[0m \u001b[1;36m14\u001b[0m\u001b[1;33m\u001b[0m\u001b[1;33m\u001b[0m\u001b[0m\n\u001b[0;32m      5\u001b[0m \u001b[1;33m\u001b[0m\u001b[0m\n\u001b[1;32m----> 6\u001b[1;33m \u001b[0mchange_name\u001b[0m\u001b[1;33m(\u001b[0m\u001b[0mmon_tuple\u001b[0m\u001b[1;33m)\u001b[0m\u001b[1;33m\u001b[0m\u001b[1;33m\u001b[0m\u001b[0m\n\u001b[0m\u001b[0;32m      7\u001b[0m \u001b[0mprint\u001b[0m\u001b[1;33m(\u001b[0m\u001b[0mmon_tuple\u001b[0m\u001b[1;33m)\u001b[0m\u001b[1;33m\u001b[0m\u001b[1;33m\u001b[0m\u001b[0m\n",
      "\u001b[1;32m<ipython-input-12-6e33e7197948>\u001b[0m in \u001b[0;36mchange_name\u001b[1;34m(tp)\u001b[0m\n\u001b[0;32m      2\u001b[0m \u001b[1;33m\u001b[0m\u001b[0m\n\u001b[0;32m      3\u001b[0m \u001b[1;32mdef\u001b[0m \u001b[0mchange_name\u001b[0m\u001b[1;33m(\u001b[0m\u001b[0mtp\u001b[0m\u001b[1;33m)\u001b[0m\u001b[1;33m:\u001b[0m\u001b[1;33m\u001b[0m\u001b[1;33m\u001b[0m\u001b[0m\n\u001b[1;32m----> 4\u001b[1;33m     \u001b[0mtp\u001b[0m\u001b[1;33m[\u001b[0m\u001b[1;36m0\u001b[0m\u001b[1;33m]\u001b[0m \u001b[1;33m=\u001b[0m \u001b[1;36m14\u001b[0m\u001b[1;33m\u001b[0m\u001b[1;33m\u001b[0m\u001b[0m\n\u001b[0m\u001b[0;32m      5\u001b[0m \u001b[1;33m\u001b[0m\u001b[0m\n\u001b[0;32m      6\u001b[0m \u001b[0mchange_name\u001b[0m\u001b[1;33m(\u001b[0m\u001b[0mmon_tuple\u001b[0m\u001b[1;33m)\u001b[0m\u001b[1;33m\u001b[0m\u001b[1;33m\u001b[0m\u001b[0m\n",
      "\u001b[1;31mTypeError\u001b[0m: 'tuple' object does not support item assignment"
     ]
    }
   ],
   "source": [
    "mon_tuple = (3,4,1)\n",
    "\n",
    "def change_name(tp):\n",
    "    tp[0] = 14\n",
    "    \n",
    "change_name(mon_tuple)\n",
    "print(mon_tuple)"
   ]
  },
  {
   "cell_type": "code",
   "execution_count": 16,
   "metadata": {},
   "outputs": [
    {
     "name": "stdout",
     "output_type": "stream",
     "text": [
      "i1: 3, i2: 7\n",
      "i1: 3, i2: 2\n",
      "i1: 3, i2: 1\n",
      "i1: 3, i2: 0\n",
      "i1: 5, i2: 7\n",
      "i1: 5, i2: 2\n",
      "i1: 5, i2: 1\n",
      "i1: 5, i2: 0\n",
      "i1: 1, i2: 7\n",
      "i1: 1, i2: 2\n",
      "i1: 1, i2: 1\n",
      "i1: 1, i2: 0\n"
     ]
    }
   ],
   "source": [
    "# for i, val in enumerate([3,5,1]):\n",
    "#     print(f\"indice: {i}, valeur: {val}\")\n",
    "    \n",
    "# for i1, i2 in zip([3,5,1], [7,2,1,0]):\n",
    "#     print(f\"i1: {i1}, i2: {i2}\")\n",
    "\n",
    "from itertools import product\n",
    "\n",
    "for i1, i2 in product([3,5,1], [7,2,1,0]):\n",
    "    print(f\"i1: {i1}, i2: {i2}\")\n"
   ]
  },
  {
   "cell_type": "markdown",
   "metadata": {},
   "source": [
    "## Tri bulle"
   ]
  },
  {
   "cell_type": "code",
   "execution_count": 17,
   "metadata": {},
   "outputs": [
    {
     "data": {
      "text/plain": [
       "[0, 1, 2, 4, 6, 8, 15]"
      ]
     },
     "execution_count": 17,
     "metadata": {},
     "output_type": "execute_result"
    }
   ],
   "source": [
    "def tri_bulle(arr):\n",
    "    res = arr.copy()\n",
    "    for j in range(len(res)-1):\n",
    "        for i in range(len(res)-1):\n",
    "            if res[i] > res[i+1]:\n",
    "                res[i], res[i+1] = res[i+1], res[i]\n",
    "    return res\n",
    "\n",
    "tri_bulle([2,8,4,6,1,15,0])"
   ]
  },
  {
   "cell_type": "code",
   "execution_count": 18,
   "metadata": {},
   "outputs": [
    {
     "name": "stdout",
     "output_type": "stream",
     "text": [
      "8.88 µs ± 267 ns per loop (mean ± std. dev. of 7 runs, 100000 loops each)\n"
     ]
    }
   ],
   "source": [
    "from timeit import timeit\n",
    "\n",
    "%timeit tri_bulle([2,8,4,6,1,15,0])"
   ]
  },
  {
   "cell_type": "code",
   "execution_count": 19,
   "metadata": {},
   "outputs": [
    {
     "name": "stdout",
     "output_type": "stream",
     "text": [
      "286 ns ± 24.2 ns per loop (mean ± std. dev. of 7 runs, 1000000 loops each)\n"
     ]
    }
   ],
   "source": [
    "%timeit [2,8,4,6,1,15,0].sort()"
   ]
  },
  {
   "cell_type": "code",
   "execution_count": null,
   "metadata": {},
   "outputs": [],
   "source": []
  }
 ],
 "metadata": {
  "kernelspec": {
   "display_name": "Python 3",
   "language": "python",
   "name": "python3"
  },
  "language_info": {
   "codemirror_mode": {
    "name": "ipython",
    "version": 3
   },
   "file_extension": ".py",
   "mimetype": "text/x-python",
   "name": "python",
   "nbconvert_exporter": "python",
   "pygments_lexer": "ipython3",
   "version": "3.7.3"
  }
 },
 "nbformat": 4,
 "nbformat_minor": 2
}
