{
 "cells": [
  {
   "cell_type": "code",
   "execution_count": null,
   "metadata": {},
   "outputs": [],
   "source": [
    "def is_car(list_car, position):\n",
    "    \"\"\"\n",
    "        return True if there is a car \n",
    "        on this position\n",
    "    \"\"\"\n",
    "\n",
    "def display_board(position_car):\n",
    "    \"\"\"\n",
    "        Display a map (10x10) on console output\n",
    "        A car is represented by \"x\"\n",
    "        no car is represented by \" \"\n",
    "        :param list_car: List of cars' position\n",
    "        \n",
    "        :Example:\n",
    "        >>> display_board([(3,5), (5,2)])\n",
    "    \"\"\"\n",
    "    for i in range(10):\n",
    "        line = []\n",
    "        for j in range(10):\n",
    "            if position_car == (i,j):\n",
    "                line.append(\"x\")\n",
    "            else:\n",
    "                line.append(\".\")\n",
    "        print(\"\".join(line))\n",
    "        \n",
    "display_board((3,5))"
   ]
  },
  {
   "cell_type": "code",
   "execution_count": 13,
   "metadata": {},
   "outputs": [
    {
     "name": "stdout",
     "output_type": "stream",
     "text": [
      "..........\n",
      "..........\n",
      "..........\n",
      "..x.......\n",
      "..........\n",
      "..........\n",
      ".x........\n",
      "..........\n",
      "..........\n",
      "..........\n"
     ]
    }
   ],
   "source": [
    "def is_car(list_car, position):\n",
    "    \"\"\"\n",
    "        return True if there is a car \n",
    "        on this position\n",
    "    \"\"\"\n",
    "    for car in list_car:\n",
    "        if car == position:\n",
    "            return True\n",
    "    return False\n",
    "            \n",
    "def display_board(list_car):\n",
    "    \"\"\"\n",
    "        Display a map (10x10) on console output\n",
    "        A car is represented by \"x\"\n",
    "        no car is represented by \" \"\n",
    "        :param list_car: List of car position\n",
    "        \n",
    "        :Example:\n",
    "        >>> display_board([(3,5), (5,2)])\n",
    "    \"\"\"\n",
    "    for i in range(10):\n",
    "        line = []\n",
    "        for j in range(10):\n",
    "            if is_car(list_car, (i,j)):\n",
    "                line.append(\"x\")\n",
    "            else:\n",
    "                line.append(\".\")\n",
    "        print(\"\".join(line))\n",
    "\n",
    "display_board([(3,2), (6,1)])"
   ]
  },
  {
   "cell_type": "code",
   "execution_count": 5,
   "metadata": {},
   "outputs": [
    {
     "name": "stdout",
     "output_type": "stream",
     "text": [
      "xxxxxxxxxx\n",
      "xxxxxxxxxx\n",
      "xxxxxxxxxx\n",
      "xxxxxxxxxx\n",
      "xxxxxxxxxx\n",
      "xxxxxxxxxx\n",
      "xxxxxxxxxx\n",
      "xxxxxxxxxx\n",
      "xxxxxxxxxx\n",
      "xxxxxxxxxx\n"
     ]
    }
   ],
   "source": [
    "for i in range(10):\n",
    "    line = []\n",
    "    for j in range(10):\n",
    "        line.append(\"x\")\n",
    "    print(\"\".join(line))"
   ]
  },
  {
   "cell_type": "code",
   "execution_count": 10,
   "metadata": {},
   "outputs": [
    {
     "data": {
      "text/plain": [
       "'bonjour toto tata'"
      ]
     },
     "execution_count": 10,
     "metadata": {},
     "output_type": "execute_result"
    }
   ],
   "source": [
    "\" \".join([\"bonjour\", \"toto\", \"tata\"])"
   ]
  },
  {
   "cell_type": "code",
   "execution_count": 1,
   "metadata": {},
   "outputs": [
    {
     "data": {
      "text/plain": [
       "0"
      ]
     },
     "execution_count": 1,
     "metadata": {},
     "output_type": "execute_result"
    }
   ],
   "source": [
    "import os \n",
    "\n",
    "os.system(\"\")"
   ]
  },
  {
   "cell_type": "code",
   "execution_count": 2,
   "metadata": {},
   "outputs": [],
   "source": [
    "list_position = [(3,5), (5,1)]\n",
    "\n",
    "# list_cars = [\n",
    "#     {\"marque\": \"Peugeot\", position: ..., direction: (0,1)},\n",
    "#     {\"marque\": \"Peugeot\", position: ..., direction: (0,1)},\n",
    "#     {\"marque\": \"Peugeot\", position: ..., direction: (0,1)},\n",
    "#     {\"marque\": \"Peugeot\", position: ..., direction: (0,1)},\n",
    "# ]\n",
    "list_cars = []\n",
    "for pos in list_position:\n",
    "    list_cars.append({\"marque\": \"Peugeot\", \"position\": pos, \"direction\": (0,1)})\n",
    "    \n",
    "# Equivalent en comprehensive list\n",
    "list_cars = [{\"marque\": \"Peugeot\", \"position\": pos} for pos in list_position]\n",
    "\n"
   ]
  },
  {
   "cell_type": "code",
   "execution_count": 3,
   "metadata": {},
   "outputs": [
    {
     "name": "stdout",
     "output_type": "stream",
     "text": [
      "[48, 84, 36, 90]\n"
     ]
    }
   ],
   "source": [
    "list_age = [24, 42, 18, 45]\n",
    "\n",
    "print([age * 2 for age in list_age])\n",
    "\n",
    "# if age > 18:\n",
    "#     etat = \"majeur\"\n",
    "# else:\n",
    "#     etat = \"mineur\"\n",
    "    \n",
    "etat = \"majeur\" if age > 18 else \"mineur\""
   ]
  },
  {
   "cell_type": "code",
   "execution_count": 7,
   "metadata": {},
   "outputs": [
    {
     "name": "stdout",
     "output_type": "stream",
     "text": [
      "[(48, 'Peugeot'), (84, 'Mercedes'), (36, 'Peugeot'), (90, 'Mercedes')]\n"
     ]
    }
   ],
   "source": [
    "list_age = [24, 42, 18, 45]\n",
    "list_brand = [\"Peugeot\", \"Mercedes\"] * 4\n",
    "print([(age * 2, brand) for age, brand in zip(list_age, list_brand)])"
   ]
  },
  {
   "cell_type": "code",
   "execution_count": 9,
   "metadata": {},
   "outputs": [
    {
     "name": "stdout",
     "output_type": "stream",
     "text": [
      "range(0, 10)\n",
      "[(24, 'Peugeot'), (42, 'Mercedes'), (18, 'Peugeot'), (45, 'Mercedes')]\n"
     ]
    }
   ],
   "source": [
    "print(range(10))\n",
    "print(list(zip(list_age, list_brand)))"
   ]
  },
  {
   "cell_type": "code",
   "execution_count": 13,
   "metadata": {},
   "outputs": [],
   "source": [
    "from random import randint\n",
    "\n",
    "list_positions = [ (randint(0,10), randint(0,10)) for i in range(8)]\n",
    "list_cars = [\n",
    "    {\"marque\": \"Mercedes\", \"position\": pos, \"direction\": (0,1)}\n",
    "    for pos in list_positions\n",
    "]"
   ]
  },
  {
   "cell_type": "code",
   "execution_count": 14,
   "metadata": {},
   "outputs": [
    {
     "data": {
      "text/plain": [
       "[{'marque': 'Mercedes', 'position': (3, 1), 'direction': (0, 1)},\n",
       " {'marque': 'Mercedes', 'position': (9, 2), 'direction': (0, 1)},\n",
       " {'marque': 'Mercedes', 'position': (6, 9), 'direction': (0, 1)},\n",
       " {'marque': 'Mercedes', 'position': (6, 8), 'direction': (0, 1)},\n",
       " {'marque': 'Mercedes', 'position': (1, 0), 'direction': (0, 1)},\n",
       " {'marque': 'Mercedes', 'position': (7, 7), 'direction': (0, 1)},\n",
       " {'marque': 'Mercedes', 'position': (9, 2), 'direction': (0, 1)},\n",
       " {'marque': 'Mercedes', 'position': (2, 2), 'direction': (0, 1)}]"
      ]
     },
     "execution_count": 14,
     "metadata": {},
     "output_type": "execute_result"
    }
   ],
   "source": [
    "list_cars"
   ]
  },
  {
   "cell_type": "code",
   "execution_count": null,
   "metadata": {},
   "outputs": [],
   "source": []
  }
 ],
 "metadata": {
  "kernelspec": {
   "display_name": "Python 3",
   "language": "python",
   "name": "python3"
  },
  "language_info": {
   "codemirror_mode": {
    "name": "ipython",
    "version": 3
   },
   "file_extension": ".py",
   "mimetype": "text/x-python",
   "name": "python",
   "nbconvert_exporter": "python",
   "pygments_lexer": "ipython3",
   "version": "3.7.3"
  }
 },
 "nbformat": 4,
 "nbformat_minor": 2
}
