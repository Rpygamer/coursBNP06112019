{
 "cells": [
  {
   "cell_type": "code",
   "execution_count": null,
   "metadata": {},
   "outputs": [],
   "source": [
    "def is_car(list_car, position):\n",
    "    \"\"\"\n",
    "        return True if there is a car \n",
    "        on this position\n",
    "    \"\"\"\n",
    "\n",
    "def display_board(position_car):\n",
    "    \"\"\"\n",
    "        Display a map (10x10) on console output\n",
    "        A car is represented by \"x\"\n",
    "        no car is represented by \" \"\n",
    "        :param list_car: List of cars' position\n",
    "        \n",
    "        :Example:\n",
    "        >>> display_board([(3,5), (5,2)])\n",
    "    \"\"\"\n",
    "    for i in range(10):\n",
    "        line = []\n",
    "        for j in range(10):\n",
    "            if position_car == (i,j):\n",
    "                line.append(\"x\")\n",
    "            else:\n",
    "                line.append(\".\")\n",
    "        print(\"\".join(line))\n",
    "        \n",
    "display_board((3,5))"
   ]
  },
  {
   "cell_type": "code",
   "execution_count": 13,
   "metadata": {},
   "outputs": [
    {
     "name": "stdout",
     "output_type": "stream",
     "text": [
      "..........\n",
      "..........\n",
      "..........\n",
      "..x.......\n",
      "..........\n",
      "..........\n",
      ".x........\n",
      "..........\n",
      "..........\n",
      "..........\n"
     ]
    }
   ],
   "source": [
    "def is_car(list_car, position):\n",
    "    \"\"\"\n",
    "        return True if there is a car \n",
    "        on this position\n",
    "    \"\"\"\n",
    "    for car in list_car:\n",
    "        if car == position:\n",
    "            return True\n",
    "    return False\n",
    "            \n",
    "def display_board(list_car):\n",
    "    \"\"\"\n",
    "        Display a map (10x10) on console output\n",
    "        A car is represented by \"x\"\n",
    "        no car is represented by \" \"\n",
    "        :param list_car: List of car position\n",
    "        \n",
    "        :Example:\n",
    "        >>> display_board([(3,5), (5,2)])\n",
    "    \"\"\"\n",
    "    for i in range(10):\n",
    "        line = []\n",
    "        for j in range(10):\n",
    "            if is_car(list_car, (i,j)):\n",
    "                line.append(\"x\")\n",
    "            else:\n",
    "                line.append(\".\")\n",
    "        print(\"\".join(line))\n",
    "\n",
    "display_board([(3,2), (6,1)])"
   ]
  },
  {
   "cell_type": "code",
   "execution_count": 5,
   "metadata": {},
   "outputs": [
    {
     "name": "stdout",
     "output_type": "stream",
     "text": [
      "xxxxxxxxxx\n",
      "xxxxxxxxxx\n",
      "xxxxxxxxxx\n",
      "xxxxxxxxxx\n",
      "xxxxxxxxxx\n",
      "xxxxxxxxxx\n",
      "xxxxxxxxxx\n",
      "xxxxxxxxxx\n",
      "xxxxxxxxxx\n",
      "xxxxxxxxxx\n"
     ]
    }
   ],
   "source": [
    "for i in range(10):\n",
    "    line = []\n",
    "    for j in range(10):\n",
    "        line.append(\"x\")\n",
    "    print(\"\".join(line))"
   ]
  },
  {
   "cell_type": "code",
   "execution_count": 10,
   "metadata": {},
   "outputs": [
    {
     "data": {
      "text/plain": [
       "'bonjour toto tata'"
      ]
     },
     "execution_count": 10,
     "metadata": {},
     "output_type": "execute_result"
    }
   ],
   "source": [
    "\" \".join([\"bonjour\", \"toto\", \"tata\"])"
   ]
  },
  {
   "cell_type": "code",
   "execution_count": null,
   "metadata": {},
   "outputs": [],
   "source": []
  }
 ],
 "metadata": {
  "kernelspec": {
   "display_name": "Python 3",
   "language": "python",
   "name": "python3"
  },
  "language_info": {
   "codemirror_mode": {
    "name": "ipython",
    "version": 3
   },
   "file_extension": ".py",
   "mimetype": "text/x-python",
   "name": "python",
   "nbconvert_exporter": "python",
   "pygments_lexer": "ipython3",
   "version": "3.7.3"
  }
 },
 "nbformat": 4,
 "nbformat_minor": 2
}
