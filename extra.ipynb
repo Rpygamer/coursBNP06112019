{
 "cells": [
  {
   "cell_type": "code",
   "execution_count": 32,
   "metadata": {},
   "outputs": [
    {
     "name": "stdout",
     "output_type": "stream",
     "text": [
      "décoration\n"
     ]
    }
   ],
   "source": [
    "def assertStr(f):\n",
    "    def nouvelle_fonction(name):\n",
    "        assert type(name) == str, \"Expected str\"\n",
    "        return f(name)\n",
    "    return nouvelle_fonction\n",
    "\n",
    "def to_uppercase(f):\n",
    "    print(\"décoration\")\n",
    "    def nouvelle_fonction(name):\n",
    "        return f(name.upper())\n",
    "    return nouvelle_fonction\n",
    "\n",
    "@assertStr\n",
    "def dire_bonjour(name):\n",
    "    print(f\"Bounjour {name}\")\n",
    "\n",
    "@to_uppercase\n",
    "def dire_aurevoir(name):\n",
    "    print(f\"Aurevoir {name}\")\n",
    "\n"
   ]
  },
  {
   "cell_type": "code",
   "execution_count": 33,
   "metadata": {},
   "outputs": [
    {
     "name": "stdout",
     "output_type": "stream",
     "text": [
      "Bounjour Eloise\n",
      "Aurevoir JEANNE\n"
     ]
    }
   ],
   "source": [
    "dire_bonjour(\"Eloise\")\n",
    "dire_aurevoir(\"Jeanne\")"
   ]
  },
  {
   "cell_type": "code",
   "execution_count": null,
   "metadata": {},
   "outputs": [],
   "source": []
  }
 ],
 "metadata": {
  "kernelspec": {
   "display_name": "Python 3",
   "language": "python",
   "name": "python3"
  },
  "language_info": {
   "codemirror_mode": {
    "name": "ipython",
    "version": 3
   },
   "file_extension": ".py",
   "mimetype": "text/x-python",
   "name": "python",
   "nbconvert_exporter": "python",
   "pygments_lexer": "ipython3",
   "version": "3.7.3"
  }
 },
 "nbformat": 4,
 "nbformat_minor": 2
}
