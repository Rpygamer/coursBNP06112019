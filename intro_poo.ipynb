{
 "cells": [
  {
   "cell_type": "code",
   "execution_count": 25,
   "metadata": {},
   "outputs": [
    {
     "ename": "NameError",
     "evalue": "name 'Compte' is not defined",
     "output_type": "error",
     "traceback": [
      "\u001b[1;31m---------------------------------------------------------------------------\u001b[0m",
      "\u001b[1;31mNameError\u001b[0m                                 Traceback (most recent call last)",
      "\u001b[1;32m<ipython-input-25-fe9ddbc66a07>\u001b[0m in \u001b[0;36m<module>\u001b[1;34m\u001b[0m\n\u001b[0;32m     33\u001b[0m \u001b[1;33m\u001b[0m\u001b[0m\n\u001b[0;32m     34\u001b[0m \u001b[1;33m\u001b[0m\u001b[0m\n\u001b[1;32m---> 35\u001b[1;33m \u001b[0mune_personne\u001b[0m \u001b[1;33m=\u001b[0m \u001b[0mPerson\u001b[0m\u001b[1;33m(\u001b[0m\u001b[1;34m\"Martin\"\u001b[0m\u001b[1;33m,\u001b[0m \u001b[1;36m6\u001b[0m\u001b[1;33m)\u001b[0m\u001b[1;33m\u001b[0m\u001b[1;33m\u001b[0m\u001b[0m\n\u001b[0m\u001b[0;32m     36\u001b[0m \u001b[0mune_autre_personne\u001b[0m \u001b[1;33m=\u001b[0m \u001b[0mPerson\u001b[0m\u001b[1;33m(\u001b[0m\u001b[1;34m\"Jeanne\"\u001b[0m\u001b[1;33m)\u001b[0m\u001b[1;33m\u001b[0m\u001b[1;33m\u001b[0m\u001b[0m\n\u001b[0;32m     37\u001b[0m \u001b[1;33m\u001b[0m\u001b[0m\n",
      "\u001b[1;32m<ipython-input-25-fe9ddbc66a07>\u001b[0m in \u001b[0;36m__init__\u001b[1;34m(self, prenom, age_init, solde_init)\u001b[0m\n\u001b[0;32m      7\u001b[0m         \u001b[0mself\u001b[0m\u001b[1;33m.\u001b[0m\u001b[0mage\u001b[0m \u001b[1;33m=\u001b[0m \u001b[0mage_init\u001b[0m\u001b[1;33m\u001b[0m\u001b[1;33m\u001b[0m\u001b[0m\n\u001b[0;32m      8\u001b[0m         \u001b[0mself\u001b[0m\u001b[1;33m.\u001b[0m\u001b[0mlocation\u001b[0m \u001b[1;33m=\u001b[0m \u001b[1;34m\"Bordeaux\"\u001b[0m\u001b[1;33m\u001b[0m\u001b[1;33m\u001b[0m\u001b[0m\n\u001b[1;32m----> 9\u001b[1;33m         \u001b[0mself\u001b[0m\u001b[1;33m.\u001b[0m\u001b[0mcompte\u001b[0m \u001b[1;33m=\u001b[0m \u001b[0mCompte\u001b[0m\u001b[1;33m(\u001b[0m\u001b[0msolde_init\u001b[0m\u001b[1;33m)\u001b[0m\u001b[1;33m\u001b[0m\u001b[1;33m\u001b[0m\u001b[0m\n\u001b[0m\u001b[0;32m     10\u001b[0m \u001b[1;33m\u001b[0m\u001b[0m\n\u001b[0;32m     11\u001b[0m     \u001b[1;32mdef\u001b[0m \u001b[0msay_hi\u001b[0m\u001b[1;33m(\u001b[0m\u001b[0mself\u001b[0m\u001b[1;33m)\u001b[0m\u001b[1;33m:\u001b[0m\u001b[1;33m\u001b[0m\u001b[1;33m\u001b[0m\u001b[0m\n",
      "\u001b[1;31mNameError\u001b[0m: name 'Compte' is not defined"
     ]
    }
   ],
   "source": [
    "from random import randint\n",
    "\n",
    "\n",
    "class Person:\n",
    "    def __init__(self, prenom, age_init=65, solde_init=10000):\n",
    "        self.firstname = prenom\n",
    "        self.age = age_init\n",
    "        self.location = \"Bordeaux\"\n",
    "        self.compte = Compte(solde_init)\n",
    "      \n",
    "    def say_hi(self):\n",
    "        print(f\"Bonjour, je m'appelle {self.firstname}.\")\n",
    "        \n",
    "    def transfert(self, other, montant):\n",
    "        self.compte.retrait(montant)\n",
    "        other.compte.depot(montant)\n",
    "        \n",
    "    def __str__(self):\n",
    "        return f\"firstname = {self.firstname}\"\n",
    "    \n",
    "    def __lt__(self, other):\n",
    "        assert type(other) == Person, (\"On ne peut pas comparer \"\n",
    "                                       \"une personne et autre chose\")\n",
    "        return self.age < other.age\n",
    "\n",
    "    def __eq__(self, other):\n",
    "        assert type(other) == Person, (\"On ne peut pas comparer \"\n",
    "                                       \"une personne et autre chose\")\n",
    "        return self.age == other.age\n",
    "    \n",
    "    def __getitem__(self, index):\n",
    "        return randint(0,10)\n",
    "\n",
    "\n",
    "une_personne = Person(\"Martin\", 6)\n",
    "une_autre_personne = Person(\"Jeanne\")\n",
    "\n",
    "une_autre_personne.transfert(une_personne, 100)\n",
    "\n",
    "print(une_personne.age)\n",
    "print(une_autre_personne.age)\n",
    "\n",
    "une_personne.firstname = \"Mylenne\"\n",
    "\n",
    "print(une_personne.firstname)\n",
    "print(une_autre_personne.firstname)\n",
    "\n",
    "une_personne.say_hi()"
   ]
  },
  {
   "cell_type": "code",
   "execution_count": 24,
   "metadata": {},
   "outputs": [
    {
     "data": {
      "text/plain": [
       "4"
      ]
     },
     "execution_count": 24,
     "metadata": {},
     "output_type": "execute_result"
    }
   ],
   "source": [
    "une_personne[0]"
   ]
  },
  {
   "cell_type": "code",
   "execution_count": 12,
   "metadata": {},
   "outputs": [
    {
     "name": "stdout",
     "output_type": "stream",
     "text": [
      "firstname = Mylenne\n",
      "<class '__main__.Person'>\n"
     ]
    }
   ],
   "source": [
    "print(une_personne)\n",
    "print(type(une_personne))"
   ]
  },
  {
   "cell_type": "code",
   "execution_count": 20,
   "metadata": {},
   "outputs": [
    {
     "name": "stdout",
     "output_type": "stream",
     "text": [
      "65\n",
      "6\n"
     ]
    },
    {
     "ename": "TypeError",
     "evalue": "'<' not supported between instances of 'int' and 'Person'",
     "output_type": "error",
     "traceback": [
      "\u001b[1;31m---------------------------------------------------------------------------\u001b[0m",
      "\u001b[1;31mTypeError\u001b[0m                                 Traceback (most recent call last)",
      "\u001b[1;32m<ipython-input-20-577b049eeba2>\u001b[0m in \u001b[0;36m<module>\u001b[1;34m\u001b[0m\n\u001b[0;32m      3\u001b[0m \u001b[1;33m\u001b[0m\u001b[0m\n\u001b[0;32m      4\u001b[0m \u001b[0mune_autre_personne\u001b[0m \u001b[1;33m<\u001b[0m \u001b[0mune_personne\u001b[0m\u001b[1;33m\u001b[0m\u001b[1;33m\u001b[0m\u001b[0m\n\u001b[1;32m----> 5\u001b[1;33m \u001b[1;36m7\u001b[0m \u001b[1;33m<\u001b[0m \u001b[0mune_personne\u001b[0m\u001b[1;33m\u001b[0m\u001b[1;33m\u001b[0m\u001b[0m\n\u001b[0m\u001b[0;32m      6\u001b[0m \u001b[0mune_autre_personne\u001b[0m \u001b[1;33m<\u001b[0m \u001b[1;36m4\u001b[0m\u001b[1;33m\u001b[0m\u001b[1;33m\u001b[0m\u001b[0m\n",
      "\u001b[1;31mTypeError\u001b[0m: '<' not supported between instances of 'int' and 'Person'"
     ]
    }
   ],
   "source": [
    "print(une_autre_personne.age)\n",
    "print(une_personne.age)\n",
    "\n",
    "une_autre_personne < une_personne\n",
    "7 < une_personne\n",
    "une_autre_personne < 4\n"
   ]
  },
  {
   "cell_type": "code",
   "execution_count": 40,
   "metadata": {},
   "outputs": [
    {
     "name": "stdout",
     "output_type": "stream",
     "text": [
      "une type erreur est survenue '>' not supported between instances of 'str' and 'int'\n"
     ]
    },
    {
     "name": "stderr",
     "output_type": "stream",
     "text": [
      "  File \"C:\\Users\\miguel\\Anaconda3\\lib\\runpy.py\", line 193, in _run_module_as_main\n",
      "    \"__main__\", mod_spec)\n",
      "  File \"C:\\Users\\miguel\\Anaconda3\\lib\\runpy.py\", line 85, in _run_code\n",
      "    exec(code, run_globals)\n",
      "  File \"C:\\Users\\miguel\\Anaconda3\\lib\\site-packages\\ipykernel_launcher.py\", line 16, in <module>\n",
      "    app.launch_new_instance()\n",
      "  File \"C:\\Users\\miguel\\Anaconda3\\lib\\site-packages\\traitlets\\config\\application.py\", line 664, in launch_instance\n",
      "    app.start()\n",
      "  File \"C:\\Users\\miguel\\Anaconda3\\lib\\site-packages\\ipykernel\\kernelapp.py\", line 563, in start\n",
      "    self.io_loop.start()\n",
      "  File \"C:\\Users\\miguel\\Anaconda3\\lib\\site-packages\\tornado\\platform\\asyncio.py\", line 148, in start\n",
      "    self.asyncio_loop.run_forever()\n",
      "  File \"C:\\Users\\miguel\\Anaconda3\\lib\\asyncio\\base_events.py\", line 539, in run_forever\n",
      "    self._run_once()\n",
      "  File \"C:\\Users\\miguel\\Anaconda3\\lib\\asyncio\\base_events.py\", line 1775, in _run_once\n",
      "    handle._run()\n",
      "  File \"C:\\Users\\miguel\\Anaconda3\\lib\\asyncio\\events.py\", line 88, in _run\n",
      "    self._context.run(self._callback, *self._args)\n",
      "  File \"C:\\Users\\miguel\\Anaconda3\\lib\\site-packages\\tornado\\ioloop.py\", line 690, in <lambda>\n",
      "    lambda f: self._run_callback(functools.partial(callback, future))\n",
      "  File \"C:\\Users\\miguel\\Anaconda3\\lib\\site-packages\\tornado\\ioloop.py\", line 743, in _run_callback\n",
      "    ret = callback()\n",
      "  File \"C:\\Users\\miguel\\Anaconda3\\lib\\site-packages\\tornado\\gen.py\", line 787, in inner\n",
      "    self.run()\n",
      "  File \"C:\\Users\\miguel\\Anaconda3\\lib\\site-packages\\tornado\\gen.py\", line 748, in run\n",
      "    yielded = self.gen.send(value)\n",
      "  File \"C:\\Users\\miguel\\Anaconda3\\lib\\site-packages\\ipykernel\\kernelbase.py\", line 361, in process_one\n",
      "    yield gen.maybe_future(dispatch(*args))\n",
      "  File \"C:\\Users\\miguel\\Anaconda3\\lib\\site-packages\\tornado\\gen.py\", line 209, in wrapper\n",
      "    yielded = next(result)\n",
      "  File \"C:\\Users\\miguel\\Anaconda3\\lib\\site-packages\\ipykernel\\kernelbase.py\", line 268, in dispatch_shell\n",
      "    yield gen.maybe_future(handler(stream, idents, msg))\n",
      "  File \"C:\\Users\\miguel\\Anaconda3\\lib\\site-packages\\tornado\\gen.py\", line 209, in wrapper\n",
      "    yielded = next(result)\n",
      "  File \"C:\\Users\\miguel\\Anaconda3\\lib\\site-packages\\ipykernel\\kernelbase.py\", line 541, in execute_request\n",
      "    user_expressions, allow_stdin,\n",
      "  File \"C:\\Users\\miguel\\Anaconda3\\lib\\site-packages\\tornado\\gen.py\", line 209, in wrapper\n",
      "    yielded = next(result)\n",
      "  File \"C:\\Users\\miguel\\Anaconda3\\lib\\site-packages\\ipykernel\\ipkernel.py\", line 300, in do_execute\n",
      "    res = shell.run_cell(code, store_history=store_history, silent=silent)\n",
      "  File \"C:\\Users\\miguel\\Anaconda3\\lib\\site-packages\\ipykernel\\zmqshell.py\", line 536, in run_cell\n",
      "    return super(ZMQInteractiveShell, self).run_cell(*args, **kwargs)\n",
      "  File \"C:\\Users\\miguel\\Anaconda3\\lib\\site-packages\\IPython\\core\\interactiveshell.py\", line 2855, in run_cell\n",
      "    raw_cell, store_history, silent, shell_futures)\n",
      "  File \"C:\\Users\\miguel\\Anaconda3\\lib\\site-packages\\IPython\\core\\interactiveshell.py\", line 2881, in _run_cell\n",
      "    return runner(coro)\n",
      "  File \"C:\\Users\\miguel\\Anaconda3\\lib\\site-packages\\IPython\\core\\async_helpers.py\", line 68, in _pseudo_sync_runner\n",
      "    coro.send(None)\n",
      "  File \"C:\\Users\\miguel\\Anaconda3\\lib\\site-packages\\IPython\\core\\interactiveshell.py\", line 3058, in run_cell_async\n",
      "    interactivity=interactivity, compiler=compiler, result=result)\n",
      "  File \"C:\\Users\\miguel\\Anaconda3\\lib\\site-packages\\IPython\\core\\interactiveshell.py\", line 3249, in run_ast_nodes\n",
      "    if (await self.run_code(code, result,  async_=asy)):\n",
      "  File \"C:\\Users\\miguel\\Anaconda3\\lib\\site-packages\\IPython\\core\\interactiveshell.py\", line 3326, in run_code\n",
      "    exec(code_obj, self.user_global_ns, self.user_ns)\n",
      "  File \"<ipython-input-40-2a61ca979bff>\", line 67, in <module>\n",
      "    traceback.print_stack()\n"
     ]
    }
   ],
   "source": [
    "from random import randint\n",
    "import traceback\n",
    "\n",
    "class NotEnoughMoney(Exception):\n",
    "    pass\n",
    "\n",
    "class Compte:\n",
    "    def __init__(self, solde_init):\n",
    "        self.solde = solde_init\n",
    "    \n",
    "    def retrait(self, montant):\n",
    "        assert montant > 0, (\"On ne peut pas retrirer \"\n",
    "                               \"un montant négatif\")\n",
    "        assert montant < self.solde, \"Solde insuffisant\"\n",
    "        self.solde -= montant\n",
    "        print(f\"solde restant : {self.solde}\")\n",
    "    \n",
    "    def depot(self, montant):\n",
    "        assert montant > 0, (\"On ne peut pas déposer \"\n",
    "                               \"un montant négatif\")\n",
    "        self.solde += montant\n",
    "        print(f\"solde restant : {self.solde}\")\n",
    "\n",
    "        \n",
    "class CompteCheque(Compte):\n",
    "    def retrait(self, montant):\n",
    "        assert montant > 0, (\"On ne peut pas retrirer \"\n",
    "                               \"un montant négatif\")\n",
    "        self.solde -= montant\n",
    "        print(f\"solde restant : {self.solde}\")\n",
    "\n",
    "\n",
    "class CompteEpargne(Compte):\n",
    "    def __init__(self, solde_init, interet=1.02):\n",
    "        Compte.__init__(self, solde_init)\n",
    "        self.interet = interet\n",
    "\n",
    "class Person:\n",
    "    def __init__(self, prenom, age_init=65, solde_init=10000):\n",
    "        self.firstname = prenom\n",
    "        self.age = age_init\n",
    "        self.location = \"Bordeaux\"\n",
    "        self.compte = Compte(solde_init)\n",
    "        self.note = 100\n",
    "      \n",
    "    def say_hi(self):\n",
    "        print(f\"Bonjour, je m'appelle {self.firstname}.\")\n",
    "        \n",
    "    def transfert(self, other, montant):\n",
    "        assert type(other) == Person, (\"On ne peut pas transfert \"\n",
    "                                       \"à autre chose qu'une personne\")\n",
    "        try:\n",
    "            self.compte.retrait(montant)\n",
    "            other.compte.depot(montant)\n",
    "        except AssertionError as e:\n",
    "            self.note -= 1\n",
    "        \n",
    "    def __str__(self):\n",
    "        return f\"firstname = {self.firstname}\"\n",
    "    \n",
    "    def __lt__(self, other):\n",
    "        assert (type(other) == Person) or \\\n",
    "                (type(other) == int), (\"On ne peut pas comparer \"\n",
    "                                       \"une personne et autre chose\")\n",
    "        return self.age < other.age\n",
    "\n",
    "    def __eq__(self, other):\n",
    "        assert type(other) == Person, (\"On ne peut pas comparer \"\n",
    "                                       \"une personne et autre chose\")\n",
    "        return self.age == other.age\n",
    "    \n",
    "    def __getitem__(self, index):\n",
    "        return randint(0,10)\n",
    "\n",
    "\n",
    "une_personne = Person(\"Martin\", 6)\n",
    "une_autre_personne = Person(\"Jeanne\")\n",
    "try:\n",
    "    une_personne.transfert(une_autre_personne, \"500\")\n",
    "except AssertionError as e:\n",
    "    print(\"une erreur est survenue\", e)\n",
    "except TypeError as e:\n",
    "#     traceback.print_stack()\n",
    "    print(\"une type erreur est survenue\", e)\n",
    "except:\n",
    "    print(\"Une erreur inattendue est survenue\")"
   ]
  },
  {
   "cell_type": "code",
   "execution_count": null,
   "metadata": {},
   "outputs": [],
   "source": []
  }
 ],
 "metadata": {
  "kernelspec": {
   "display_name": "Python 3",
   "language": "python",
   "name": "python3"
  },
  "language_info": {
   "codemirror_mode": {
    "name": "ipython",
    "version": 3
   },
   "file_extension": ".py",
   "mimetype": "text/x-python",
   "name": "python",
   "nbconvert_exporter": "python",
   "pygments_lexer": "ipython3",
   "version": "3.7.3"
  }
 },
 "nbformat": 4,
 "nbformat_minor": 2
}
