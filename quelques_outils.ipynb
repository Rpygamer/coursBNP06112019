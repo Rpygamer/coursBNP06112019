{
 "cells": [
  {
   "cell_type": "markdown",
   "metadata": {},
   "source": [
    "## Quelques outils\n",
    "* Expressions régulières / datetime\n",
    "* Argparse\n",
    "* Fichiers"
   ]
  },
  {
   "cell_type": "code",
   "execution_count": 5,
   "metadata": {},
   "outputs": [],
   "source": [
    "with open(\"pokemon.csv\", encoding='utf-8') as f:\n",
    "    f.read()"
   ]
  },
  {
   "cell_type": "code",
   "execution_count": 9,
   "metadata": {},
   "outputs": [],
   "source": [
    "# file = open(\"pokemon.csv\", encoding=\"utf-8\")\n",
    "# try:\n",
    "#     contenu = file.read()\n",
    "# except:\n",
    "#     print(\"erreur\")\n",
    "# finally:\n",
    "#     file.close()\n",
    "\n",
    "# print(contenu)\n",
    "\n",
    "with open(\"pokemon.csv\", encoding=\"utf-8\") as f:\n",
    "    contenu = f.read()\n",
    "\n",
    "# print(contenu)"
   ]
  },
  {
   "cell_type": "code",
   "execution_count": 34,
   "metadata": {},
   "outputs": [],
   "source": [
    "import re\n",
    "\n",
    "re.findall(\"\\[.*\\]\", contenu)\n",
    "pass"
   ]
  },
  {
   "cell_type": "code",
   "execution_count": 20,
   "metadata": {},
   "outputs": [],
   "source": [
    "re.match(\"GR(.)?S\", \"GROS\")\n",
    "re.match(\"GR[A-Z]?S\", \"GRoS\")\n",
    "re.match(\"GR[a-z]?S\", \"GRoS\")\n",
    "re.match(\"GR[A-Z012]?S\", \"GR3S\")\n",
    "\n",
    "# re.match(\"GR(.)?S\", \"GROS\")"
   ]
  },
  {
   "cell_type": "code",
   "execution_count": 33,
   "metadata": {},
   "outputs": [
    {
     "name": "stdout",
     "output_type": "stream",
     "text": [
      "<re.Match object; span=(0, 10), match='0146203727'>\n",
      "None\n",
      "<re.Match object; span=(0, 14), match='01 46 20 37 27'>\n"
     ]
    }
   ],
   "source": [
    "# Une expression régulière qui match les numéros de téléphone\n",
    "# 01 46 20 37 27\n",
    "# 06.56.27.47.27\n",
    "# 0141207728\n",
    "print(re.match(\"(\\d{2}[. ]?){5}\", \"0146203727\"))\n",
    "print(re.match(\"(\\d{2}[. ]?){4}\\d{2}$\", \"01.46.20.37.27\"))\n",
    "print(re.match(\"(\\d{2}[. ]?){5}\", \"01 46 20 37 27\"))"
   ]
  },
  {
   "cell_type": "code",
   "execution_count": 25,
   "metadata": {},
   "outputs": [
    {
     "data": {
      "text/plain": [
       "int"
      ]
     },
     "execution_count": 25,
     "metadata": {},
     "output_type": "execute_result"
    }
   ],
   "source": [
    "liste = [2., 4., 5.]\n",
    "type(liste[0])\n",
    "\n",
    "liste_int = [int(i) for i in liste]\n",
    "type(liste_int[0])\n"
   ]
  },
  {
   "cell_type": "code",
   "execution_count": 37,
   "metadata": {},
   "outputs": [],
   "source": [
    "import pandas as pd\n",
    "\n",
    "df = pd.read_csv(\"pokemon.csv\")"
   ]
  },
  {
   "cell_type": "code",
   "execution_count": 63,
   "metadata": {},
   "outputs": [
    {
     "data": {
      "text/plain": [
       "0      aur\n",
       "1      aur\n",
       "2      aur\n",
       "3      der\n",
       "4      eon\n",
       "      ... \n",
       "796    ela\n",
       "797    ana\n",
       "798    ord\n",
       "799    zma\n",
       "800    rna\n",
       "Name: name_short, Length: 801, dtype: object"
      ]
     },
     "execution_count": 63,
     "metadata": {},
     "output_type": "execute_result"
    }
   ],
   "source": [
    "import numpy as np\n",
    "\n",
    "\n",
    "def extract_last_letters(name):\n",
    "    return name[-3:]\n",
    "\n",
    "# df.against_bug.map(lambda x:np.array(x).astype(np.int32))\n",
    "df[\"name_short\"] = df.name.map(extract_last_letters)\n",
    "df.columns\n",
    "df.name_short"
   ]
  },
  {
   "cell_type": "code",
   "execution_count": null,
   "metadata": {},
   "outputs": [],
   "source": []
  }
 ],
 "metadata": {
  "kernelspec": {
   "display_name": "Python 3",
   "language": "python",
   "name": "python3"
  },
  "language_info": {
   "codemirror_mode": {
    "name": "ipython",
    "version": 3
   },
   "file_extension": ".py",
   "mimetype": "text/x-python",
   "name": "python",
   "nbconvert_exporter": "python",
   "pygments_lexer": "ipython3",
   "version": "3.7.3"
  }
 },
 "nbformat": 4,
 "nbformat_minor": 2
}
