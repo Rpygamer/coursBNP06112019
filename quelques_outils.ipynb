{
 "cells": [
  {
   "cell_type": "markdown",
   "metadata": {},
   "source": [
    "## Quelques outils\n",
    "* Expressions régulières / datetime\n",
    "* Argparse\n",
    "* Fichiers"
   ]
  },
  {
   "cell_type": "code",
   "execution_count": 5,
   "metadata": {},
   "outputs": [],
   "source": [
    "with open(\"pokemon.csv\", encoding='utf-8') as f:\n",
    "    f.read()"
   ]
  },
  {
   "cell_type": "code",
   "execution_count": 9,
   "metadata": {},
   "outputs": [],
   "source": [
    "# file = open(\"pokemon.csv\", encoding=\"utf-8\")\n",
    "# try:\n",
    "#     contenu = file.read()\n",
    "# except:\n",
    "#     print(\"erreur\")\n",
    "# finally:\n",
    "#     file.close()\n",
    "\n",
    "# print(contenu)\n",
    "\n",
    "with open(\"pokemon.csv\", encoding='utf-8') as f:\n",
    "    contenu = f.read()\n",
    "\n",
    "# print(contenu)"
   ]
  },
  {
   "cell_type": "code",
   "execution_count": null,
   "metadata": {},
   "outputs": [],
   "source": [
    "import re\n",
    "\n"
   ]
  }
 ],
 "metadata": {
  "kernelspec": {
   "display_name": "Python 3",
   "language": "python",
   "name": "python3"
  },
  "language_info": {
   "codemirror_mode": {
    "name": "ipython",
    "version": 3
   },
   "file_extension": ".py",
   "mimetype": "text/x-python",
   "name": "python",
   "nbconvert_exporter": "python",
   "pygments_lexer": "ipython3",
   "version": "3.7.3"
  }
 },
 "nbformat": 4,
 "nbformat_minor": 2
}
